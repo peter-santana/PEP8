{
 "cells": [
  {
   "cell_type": "markdown",
   "metadata": {},
   "source": [
    "# PEP8 guide\n",
    "## Visual and easy-going guide for PEP8 python coding"
   ]
  },
  {
   "cell_type": "markdown",
   "metadata": {},
   "source": [
    "#### This jupyter notebook was made with the intention to simplify and give a best practice intro to coding with PEP8 styling.\n",
    "##### made by Peter L Santana"
   ]
  },
  {
   "cell_type": "markdown",
   "metadata": {},
   "source": [
    "##### We will go through:\n",
    "\n",
    "- <font color=red>Naming Conventions</font>\n",
    "- <font color=blue>Code Layout</font>\n",
    "- <font color=green>Indentation</font>\n",
    "- <font color=purple>Comments</font>"
   ]
  },
  {
   "cell_type": "markdown",
   "metadata": {},
   "source": [
    "# <font color=red>Naming Conventions</font>"
   ]
  },
  {
   "cell_type": "markdown",
   "metadata": {},
   "source": [
    "When programming in python, we will have to name functions, variables, packages, classes, dicts and even imports. Names are important in the way they provide information of what that particular part of the code is doing, thats why it is important to use appropiate names whenever we code. \n",
    "\n",
    "__For Classes:__\n",
    "\n",
    "- Each word selected must start with a capital letter\n",
    "- Do not use underscores for separation of words\n",
    "\n",
    "<code>KinetX, OpticalNavigation</code> \n",
    "\n",
    "__For Functions:__\n",
    "\n",
    "- Each word must start with a lowercase letter\n",
    "- Words are separated with underscore\n",
    "\n",
    "<code>imaginer, fly_point_shoot</code>\n",
    "\n",
    "__For Variables:__\n",
    "\n",
    "- Start variables with a lowercase letter\n",
    "- Words are separated with underscore\n",
    "\n",
    "<code> tt_cam, lorri</code>\n",
    "\n",
    "\n",
    "__For Constants:__\n",
    "\n",
    "- USE ALL CAPS\n",
    "- SEPARATE WITH UNDERSCORE\n",
    "\n",
    "<code> GRAVITATIONAL_CONSTANT, PI</code>\n",
    "\n"
   ]
  },
  {
   "cell_type": "markdown",
   "metadata": {},
   "source": [
    "## <font color=red>Choosing a name</font>"
   ]
  },
  {
   "cell_type": "markdown",
   "metadata": {},
   "source": [
    "Try to be as descriptive as possible, don't use variable as names, use short and describable names for anything you code.\n",
    "\n",
    "<code> # Dont do:\n",
    "    x = 4.564\n",
    "    def yy(x):\n",
    "        return x*4554\n",
    "    \n",
    "#Do:\n",
    "    constant_acceleration = 4.564\n",
    "    def acceleration_multiplier(constant_acceleration):\n",
    "        return constant_acceleration * 4554\n",
    "</code>"
   ]
  },
  {
   "cell_type": "markdown",
   "metadata": {},
   "source": [
    "# <font color=blue>Code Layout</font>"
   ]
  },
  {
   "cell_type": "markdown",
   "metadata": {},
   "source": [
    "__Classes and Functions\n",
    "\n",
    "- Two blank lines between them if the function is not part of the class:\n",
    "\n",
    "```python\n",
    "class LucyOpticalNavigation:\n",
    "        return do\n",
    "\n",
    "                              \n",
    "def attitude_calculator():\n",
    "        return calculate\n",
    "```\n",
    "\n",
    "\n",
    "- One blank line between functions inside of a class:\n",
    "    ```python\n",
    "class LucyOpticalNavigation:\n",
    "        def attitude_calculator():\n",
    "            return calculate\n",
    "    \n",
    "        def particle_estimator():\n",
    "            return position\n",
    "```\n"
   ]
  },
  {
   "cell_type": "markdown",
   "metadata": {},
   "source": [
    "- Sometimes it is important to leave a line between steps in a function to make the process clearer:\n",
    "\n",
    "```python\n",
    "\n",
    "def fly_point_shoot():\n",
    "    lucy.fly()\n",
    "    \n",
    "    lucy.point()\n",
    "    \n",
    "    lucy.shoot()\n",
    "    \n",
    "    return picture\n",
    "```\n"
   ]
  },
  {
   "cell_type": "markdown",
   "metadata": {},
   "source": [
    "- Maximum line length is 79 characters:\n",
    "If there are more than 79 characters, line breaking is possible"
   ]
  },
  {
   "cell_type": "markdown",
   "metadata": {},
   "source": [
    "# <font color=green>Indentation</font>"
   ]
  },
  {
   "cell_type": "markdown",
   "metadata": {},
   "source": [
    "Indentation in python is really important, hence it being an indentation dependent language. \n",
    "\n",
    "- 4 consecutive spaces are considered an indentation:\n",
    "_Pep 8 does not recommend using tab, but I think using tab instead of spaces is better for fast coding_"
   ]
  },
  {
   "cell_type": "markdown",
   "metadata": {},
   "source": [
    "# <font color=purple>Comments</font>"
   ]
  },
  {
   "cell_type": "markdown",
   "metadata": {},
   "source": [
    "### - Block Comments\n",
    "\n",
    "- Use block comments for small sections of code \n",
    "\n",
    "- Indent block comments to the same level of code you are describing\n",
    "\n",
    "- Start each line with a #\n",
    "\n",
    "<code>\n",
    "    def image_coadding():\n",
    "        # Image \"stacking\" is used to increase the SNR of the  \n",
    "        # observed targets</code>"
   ]
  },
  {
   "cell_type": "markdown",
   "metadata": {},
   "source": [
    "### - Inline Comments\n",
    "\n",
    "- Use inline comments to explain a single statement\n",
    "\n",
    "- Separate comments by 2 or more spaces from the statment in line\n",
    "\n",
    "- Write inline comments in the same line theyre refering to\n",
    "\n",
    "<code>\n",
    "    star_background = exposure time  #Approximate same DN</code>"
   ]
  },
  {
   "cell_type": "markdown",
   "metadata": {},
   "source": [
    "### - Documentation Strings\n",
    "\n",
    "- Docstrings are enclosed in double or single quotation marks (''')\n",
    "\n",
    "```python\n",
    "\n",
    "def fly_point_shoot():\n",
    "    \"\"\"Fly – modeling the trajectories of the spacecraft, the              \n",
    "    target body, and Sun as functions of time\n",
    "    \n",
    "       \n",
    "    \"\"\"\n",
    "   \n",
    "    lucy.fly()\n",
    "    \n",
    "    lucy.point()\n",
    "    \n",
    "    lucy.shoot()\n",
    "    \n",
    "    return picture\n",
    "```\n",
    "\n",
    "\n"
   ]
  }
 ],
 "metadata": {
  "kernelspec": {
   "display_name": "Python 3",
   "language": "python",
   "name": "python3"
  },
  "language_info": {
   "codemirror_mode": {
    "name": "ipython",
    "version": 3
   },
   "file_extension": ".py",
   "mimetype": "text/x-python",
   "name": "python",
   "nbconvert_exporter": "python",
   "pygments_lexer": "ipython3",
   "version": "3.8.3"
  }
 },
 "nbformat": 4,
 "nbformat_minor": 4
}
